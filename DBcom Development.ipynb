{
 "cells": [
  {
   "cell_type": "code",
   "execution_count": 1,
   "metadata": {},
   "outputs": [],
   "source": [
    "import sqlite3\n",
    "from modules.gate_logger import Logger\n",
    "\n",
    "class DBcom():\n",
    "    \"\"\"Database module class\"\"\"\n",
    "    def __init__(self, **kwargs):\n",
    "        self.database = 'iqc.db'\n",
    "        self.logger = Logger(__name__, fh=False, clevel='DEBUG')\n",
    "        \n",
    "    def connectdb(self):\n",
    "        conn = sqlite3.connect(self.database)\n",
    "        cursor = conn.cursor()\n",
    "        return conn, cursor\n",
    "    \n",
    "    def _get_pri_key(self, table):\n",
    "        query = ((\"select a.attname, format_type(a.atttypid, a.atttypmod) as \"\n",
    "                  \"data_type from pg_index i join pg_attribute a on a.attrelid \"\n",
    "                  \"= i.indrelid and a.attnum = ANY(i.indkey) where i.indrelid \"\n",
    "                  \"= '{table}'::regclass and i.indisprimary\").format(table=table))\n",
    "        self.logger.general('QUERY:{q}'.format(query))\n",
    "        cursor.execute(query)\n",
    "        names, values = self._proc_resp(cursor)\n",
    "        conn.close()\n",
    "        self.logger.general('Primary keys:{n}, {v}'.format(n=names, v=values))\n",
    "        \n",
    "    def query(self, fields, table):\n",
    "        conn, cursor = self.connectdb()\n",
    "        query = 'SELECT {f} from {t} '.format(f=fields, t=table)\n",
    "        \n",
    "        def where(self, expr):\n",
    "            self.logger.general('WHERE:{q}'.format(query))\n",
    "            query += expr\n",
    "        \n",
    "        def groupby(self, expr):\n",
    "            self.logger.general('GROUPBY:{q}'.format(query))\n",
    "            query += expr\n",
    "        \n",
    "        def orderby(self, expr):\n",
    "            self.logger.general('ORDERBY:{q}'.format(query))\n",
    "            query += expr\n",
    "        \n",
    "        self.logger.general('FINAL QUERY:{q}'.format(query))"
   ]
  },
  {
   "cell_type": "code",
   "execution_count": null,
   "metadata": {
    "collapsed": true
   },
   "outputs": [],
   "source": []
  },
  {
   "cell_type": "code",
   "execution_count": null,
   "metadata": {
    "collapsed": true
   },
   "outputs": [],
   "source": []
  }
 ],
 "metadata": {
  "kernelspec": {
   "display_name": "Python 3",
   "language": "python",
   "name": "python3"
  },
  "language_info": {
   "codemirror_mode": {
    "name": "ipython",
    "version": 3
   },
   "file_extension": ".py",
   "mimetype": "text/x-python",
   "name": "python",
   "nbconvert_exporter": "python",
   "pygments_lexer": "ipython3",
   "version": "3.6.2"
  }
 },
 "nbformat": 4,
 "nbformat_minor": 2
}
