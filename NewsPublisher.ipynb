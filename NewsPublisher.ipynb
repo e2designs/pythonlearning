{
 "cells": [
  {
   "cell_type": "code",
   "execution_count": 1,
   "metadata": {
    "collapsed": true
   },
   "outputs": [],
   "source": [
    "class NewsPublisher:\n",
    "    def __init__(self):\n",
    "        self.__subscribers = []\n",
    "        self.__latestNews = None\n",
    "\n",
    "    def attach(self, subscriber):\n",
    "        self.__subscribers.append(subscriber)\n",
    "\n",
    "    def detach(self):\n",
    "        return self.__subscribers.pop()\n",
    "\n",
    "    def subscribers(self):\n",
    "        return [type(x).__name__ for x in self.__subscribers]\n",
    "\n",
    "    def notifySubscribers(self):\n",
    "        for sub in self.__subscribers:\n",
    "            sub.update()\n",
    "\n",
    "    def addNews(self, news):\n",
    "        self.__latestNews = news\n",
    "\n",
    "    def getNews(self):\n",
    "        return \"Got News:\", self.__latestNews"
   ]
  },
  {
   "cell_type": "code",
   "execution_count": 2,
   "metadata": {
    "collapsed": true
   },
   "outputs": [],
   "source": [
    "class SMSSubscriber:\n",
    "    def __init__(self, publisher):\n",
    "        self.publisher = publisher\n",
    "        self.publisher.attach(self)\n",
    "    \n",
    "    def update(self):\n",
    "        print(type(self).__name__, self.publisher.getNews())\n",
    "    \n",
    "class EmailSubscriber:\n",
    "    def __init__(self, publisher):\n",
    "        self.publisher = publisher\n",
    "        self.publisher.attach(self)\n",
    "    \n",
    "    def update(self):\n",
    "        print(type(self).__name__, self.publisher.getNews())\n",
    "    \n",
    "class AnyOtherSubscriber:\n",
    "    def __init__(self, publisher):\n",
    "        self.publisher = publisher\n",
    "        self.publisher.attach(self)\n",
    "    \n",
    "    def update(self):\n",
    "        print(type(self).__name__, self.publisher.getNews())"
   ]
  },
  {
   "cell_type": "code",
   "execution_count": 3,
   "metadata": {
    "scrolled": true
   },
   "outputs": [
    {
     "name": "stdout",
     "output_type": "stream",
     "text": [
      "\n",
      "Subscribers: ['SMSSubscriber', 'EmailSubscriber', 'AnyOtherSubscriber']\n",
      "SMSSubscriber ('Got News:', 'Hello World!')\n",
      "EmailSubscriber ('Got News:', 'Hello World!')\n",
      "AnyOtherSubscriber ('Got News:', 'Hello World!')\n",
      "\n",
      "Detached: AnyOtherSubscriber\n",
      "\n",
      "Subscribers: ['SMSSubscriber', 'EmailSubscriber']\n",
      "SMSSubscriber ('Got News:', 'My second news!')\n",
      "EmailSubscriber ('Got News:', 'My second news!')\n"
     ]
    }
   ],
   "source": [
    "news_publisher = NewsPublisher()\n",
    "\n",
    "for Subscribers in [SMSSubscriber, EmailSubscriber, AnyOtherSubscriber]:\n",
    "    Subscribers(news_publisher)\n",
    "print(\"\\nSubscribers:\", news_publisher.subscribers())\n",
    "\n",
    "news_publisher.addNews('Hello World!')\n",
    "news_publisher.notifySubscribers()\n",
    "\n",
    "print(\"\\nDetached:\", type(news_publisher.detach()).__name__)\n",
    "print(\"\\nSubscribers:\", news_publisher.subscribers())\n",
    "\n",
    "news_publisher.addNews('My second news!')\n",
    "news_publisher.notifySubscribers()"
   ]
  },
  {
   "cell_type": "markdown",
   "metadata": {},
   "source": [
    "## The Observer pattern – advantages and disadvantages\n",
    "The Observer pattern provides you with the following advantages:\n",
    "\n",
    "   * It supports the principle of loose coupling between objects that interact with each other\n",
    "   * It allows sending data to other objects effectively without any change in the Subject or Observer classes\n",
    "   * Observers can be added/removed at any point in time\n",
    "    \n",
    "The following are the disadvantages of the Observer pattern:\n",
    "\n",
    "   * The Observer interface has to be implemented by ConcreteObserver, which involves inheritance. There is no option for composition, as the Observer interface can be instantiated.\n",
    "   * If not correctly implemented, the Observer can add complexity and lead to inadvertent performance issues.\n",
    "   * In software application, notifications can, at times, be undependable and result in race conditions or inconsistency."
   ]
  },
  {
   "cell_type": "markdown",
   "metadata": {},
   "source": []
  }
 ],
 "metadata": {
  "kernelspec": {
   "display_name": "Python 3",
   "language": "python",
   "name": "python3"
  },
  "language_info": {
   "codemirror_mode": {
    "name": "ipython",
    "version": 3
   },
   "file_extension": ".py",
   "mimetype": "text/x-python",
   "name": "python",
   "nbconvert_exporter": "python",
   "pygments_lexer": "ipython3",
   "version": "3.6.3"
  }
 },
 "nbformat": 4,
 "nbformat_minor": 2
}
