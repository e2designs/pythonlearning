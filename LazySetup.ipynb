{
 "cells": [
  {
   "cell_type": "markdown",
   "metadata": {
    "hide_input": false
   },
   "source": [
    "## Lazysetup\n",
    " 1. Provides a method for adding to an object dynamically.\n",
    " 2. Object attributes do not need to be pre-defined.\n",
    " 3. This would also allow for attributes to take on default values."
   ]
  },
  {
   "cell_type": "code",
   "execution_count": 1,
   "metadata": {},
   "outputs": [
    {
     "name": "stdout",
     "output_type": "stream",
     "text": [
      "something\n"
     ]
    }
   ],
   "source": [
    "print('something')"
   ]
  },
  {
   "cell_type": "code",
   "execution_count": null,
   "metadata": {
    "collapsed": true
   },
   "outputs": [],
   "source": [
    "# lazysetup.py\n",
    "from modules.gate_logger import Logger\n",
    "\n",
    "class lazysetup(object):\n",
    "    def __init__(self):\n",
    "        self.logger = Logger(__name__)\n",
    "        self.maint_cli = 'maint_cli container'\n",
    "        self.ff_gui = 'Firefox container'\n",
    "\n",
    "    def __getattr__(self, name):\n",
    "        \"\"\"\n",
    "        Function is only called if the attribute did not already exist\n",
    "        \"\"\"\n",
    "        value = None\n",
    "        self.logger.general('Initializing attribute:{0}'.format(name))\n",
    "        if name == 'wls_client':\n",
    "            value = 'Wireless client container'\n",
    "        setattr(self, name, value)\n",
    "        return value\n",
    "\n",
    "\n",
    "class forcelazy(object):\n",
    "    def __init__(self):\n",
    "        self.logger = Logger(__name__)\n",
    "\n",
    "    def __getattribute__(self, name):\n",
    "        \"\"\"\n",
    "        Function is always called\n",
    "        \"\"\"\n",
    "        print('\\nAttribute:{0} was called'.format(name))\n",
    "        try:\n",
    "            return object.__getattribute__(self, name)\n",
    "        except AttributeError:\n",
    "            value = None\n",
    "            setattr(self, name, value)\n",
    "            return value"
   ]
  },
  {
   "cell_type": "markdown",
   "metadata": {
    "hide_input": false
   },
   "source": [
    "## test_mytestmodule.py\n"
   ]
  },
  {
   "cell_type": "code",
   "execution_count": null,
   "metadata": {
    "collapsed": true
   },
   "outputs": [],
   "source": [
    "#from lazysetup import lazysetup, forcelazy\n",
    "import pytest"
   ]
  },
  {
   "cell_type": "markdown",
   "metadata": {
    "hide_input": false
   },
   "source": [
    "### The setup fixture is adding:\n",
    " 1. DDC container\n",
    " 2. Wireless Client Container\n",
    " 3. PLaceholder attribute\n",
    "#### A fixture is used so that the code after yield (cleanup) will be executed after every test run."
   ]
  },
  {
   "cell_type": "code",
   "execution_count": null,
   "metadata": {
    "collapsed": true
   },
   "outputs": [],
   "source": [
    "@pytest.fixture()\n",
    "def setup_fixture():\n",
    "    \"\"\"\n",
    "    Setup for the module\n",
    "    \"\"\"\n",
    "\n",
    "    env = lazysetup()\n",
    "    env.logger.general(\"\\nIn setup fixture\")\n",
    "    env.ddc = \"ddc setup\"\n",
    "    env.wls_client\n",
    "    env.placeholder\n",
    "\n",
    "    yield env\n",
    "\n",
    "    print \"\\nCleaning up env\""
   ]
  },
  {
   "cell_type": "markdown",
   "metadata": {
    "hide_input": false
   },
   "source": [
    "## The setup_too fixture\n",
    "Is using a get_attribute method that will run every time the attribute is referenced. This may be useful for containers where a check is run to ensure the container is running and responsive. "
   ]
  },
  {
   "cell_type": "code",
   "execution_count": null,
   "metadata": {
    "collapsed": true
   },
   "outputs": [],
   "source": [
    "@pytest.fixture()\n",
    "def setup_too():\n",
    "    \"\"\"\n",
    "    Forced attribute execution\n",
    "    \"\"\"\n",
    "    env2 = forcelazy()\n",
    "    print env2.ff_gui\n",
    "    env2.ff_gui = 'My Gui'\n",
    "    print env2.ff_gui\n",
    "\n",
    "    yield env2\n",
    "\n",
    "    print \"\\nCleaning up other env\"\n",
    "\n",
    "def test_something(setup_fixture):\n",
    "    \"\"\"\n",
    "    Test using env lazy setup\n",
    "    \"\"\"\n",
    "    env = setup_fixture\n",
    "    print \"Testing my lazy setup\"\n",
    "    print \"Updating placeholder\"\n",
    "    env.placeholder = 'Assigned value'\n",
    "\n",
    "    print \"CLI = {0}\".format(env.maint_cli)\n",
    "    print \"GUI = {0}\".format(env.ff_gui)\n",
    "    print \"DDC = {0}\".format(env.ddc)\n",
    "    print \"WLS Client = {0}\".format(env.wls_client)\n",
    "    print \"Adding something in the test\"\n",
    "    env.something = \"Something new\"\n",
    "\n",
    "    print \"Running test\"\n",
    "    try:\n",
    "        raise Exception(\"Whoops\")\n",
    "    except:\n",
    "        env.logger.critical(\"Something went wrong\")\n",
    "        env.logger.critical(\"My env is {}\".format(env.__dict__))\n",
    "\n",
    "def test_else(setup_too):\n",
    "    \"\"\"\n",
    "    Test using env lazy setup\n",
    "    \"\"\"\n",
    "    env2 = setup_too\n",
    "    print \"Testing my lazy setup\"\n",
    "\n",
    "    print \"GUI = {0}\".format(env2.ff_gui)\n",
    "    print \"Adding something in the test\"\n",
    "    env2.something = \"Something new\"\n",
    "\n",
    "    print \"Running test\"\n",
    "    try:\n",
    "        raise Exception(\"Whoops\")\n",
    "    except:\n",
    "        env2.logger.critical(\"Something went wrong\")\n",
    "        env2.logger.critical(\"My env is {}\".format(env2.__dict__))\n",
    "        \n"
   ]
  },
  {
   "cell_type": "code",
   "execution_count": null,
   "metadata": {
    "collapsed": true
   },
   "outputs": [],
   "source": []
  }
 ],
 "metadata": {
  "kernelspec": {
   "display_name": "Python 3",
   "language": "python",
   "name": "python3"
  },
  "language_info": {
   "codemirror_mode": {
    "name": "ipython",
    "version": 3
   },
   "file_extension": ".py",
   "mimetype": "text/x-python",
   "name": "python",
   "nbconvert_exporter": "python",
   "pygments_lexer": "ipython3",
   "version": "3.6.2"
  }
 },
 "nbformat": 4,
 "nbformat_minor": 2
}
