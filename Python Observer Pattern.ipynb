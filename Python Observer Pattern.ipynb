{
 "cells": [
  {
   "cell_type": "code",
   "execution_count": 1,
   "metadata": {
    "collapsed": true
   },
   "outputs": [],
   "source": [
    "class notifier(object):\n",
    "    def __init__(self):\n",
    "        self.__users = {}\n",
    "        \n",
    "    def register(self, user, method):\n",
    "        user_info = self.__users[user] = {}\n",
    "        user_info['name'] = user\n",
    "        user_info['method'] = method\n",
    "        user_info['notify'] = {'blog' : True, 'newProduct': True, 'specials' : True}\n",
    "        \n",
    "    def notify(self, *args, **kwargs):\n",
    "        for key in self.__users:\n",
    "            user = self.__users[key]\n",
    "            msgtype = kwargs['msgtype']\n",
    "            if user['notify'][msgtype]:\n",
    "                self.send_notification(msgtype, args, user['name'], user['method'])\n",
    "            else:\n",
    "                continue\n",
    "    \n",
    "    def send_notification(self, msgtype, msg, user, method):\n",
    "        print('Sending {t} {n} to {u} via {m}'.format(t=msgtype, n=msg, u=user, m=method))\n",
    "        \n",
    "    \n",
    "    def deregister(self, user):\n",
    "        self.__users.pop(user, 0)\n",
    "        \n",
    "    def update_registration(self, user, new_notify):\n",
    "        for key, value in new_notify.items():\n",
    "            self.__users[user]['notify'][key] = value\n",
    "        \n",
    "    def list_users(self):\n",
    "        for user in self.__users:\n",
    "            print(user)"
   ]
  },
  {
   "cell_type": "code",
   "execution_count": 2,
   "metadata": {},
   "outputs": [],
   "source": [
    "notifier = notifier()"
   ]
  },
  {
   "cell_type": "code",
   "execution_count": 3,
   "metadata": {},
   "outputs": [],
   "source": [
    "player1 = notifier.register('player1', 'email')\n",
    "player2 = notifier.register('player2', 'text')\n",
    "player3 = notifier.register('player3', 'text_to_call')"
   ]
  },
  {
   "cell_type": "code",
   "execution_count": 4,
   "metadata": {},
   "outputs": [
    {
     "name": "stdout",
     "output_type": "stream",
     "text": [
      "player1\n",
      "player2\n",
      "player3\n"
     ]
    }
   ],
   "source": [
    "notifier.list_users()\n"
   ]
  },
  {
   "cell_type": "code",
   "execution_count": 5,
   "metadata": {},
   "outputs": [
    {
     "name": "stdout",
     "output_type": "stream",
     "text": [
      "Sending blog ('What do you think of the new version of Battlefront?',) to player1 via email\n",
      "Sending blog ('What do you think of the new version of Battlefront?',) to player2 via text\n",
      "Sending blog ('What do you think of the new version of Battlefront?',) to player3 via text_to_call\n"
     ]
    }
   ],
   "source": [
    "notifier.notify('What do you think of the new version of Battlefront?', msgtype='blog')"
   ]
  },
  {
   "cell_type": "code",
   "execution_count": 6,
   "metadata": {},
   "outputs": [],
   "source": [
    "new_notify = {\n",
    "    'blog' : False\n",
    "}\n",
    "notifier.update_registration('player1', new_notify)\n"
   ]
  },
  {
   "cell_type": "code",
   "execution_count": 7,
   "metadata": {},
   "outputs": [
    {
     "name": "stdout",
     "output_type": "stream",
     "text": [
      "Sending blog Is anybody out there? to player2 via text\n",
      "Sending blog Is anybody out there? to player3 via text_to_call\n"
     ]
    }
   ],
   "source": [
    "notifier.notify(msgtype='blog', msg='Is anybody out there?')"
   ]
  },
  {
   "cell_type": "code",
   "execution_count": 8,
   "metadata": {},
   "outputs": [
    {
     "name": "stdout",
     "output_type": "stream",
     "text": [
      "Sending specials Everything is 80% off today only! to player1 via email\n",
      "Sending specials Everything is 80% off today only! to player2 via text\n",
      "Sending specials Everything is 80% off today only! to player3 via text_to_call\n"
     ]
    }
   ],
   "source": [
    "notifier.notify(msgtype='specials', msg='Everything is 80% off today only!')"
   ]
  },
  {
   "cell_type": "code",
   "execution_count": null,
   "metadata": {
    "collapsed": true
   },
   "outputs": [],
   "source": []
  }
 ],
 "metadata": {
  "kernelspec": {
   "display_name": "Python 3",
   "language": "python",
   "name": "python3"
  },
  "language_info": {
   "codemirror_mode": {
    "name": "ipython",
    "version": 3
   },
   "file_extension": ".py",
   "mimetype": "text/x-python",
   "name": "python",
   "nbconvert_exporter": "python",
   "pygments_lexer": "ipython3",
   "version": "3.6.3"
  }
 },
 "nbformat": 4,
 "nbformat_minor": 2
}
